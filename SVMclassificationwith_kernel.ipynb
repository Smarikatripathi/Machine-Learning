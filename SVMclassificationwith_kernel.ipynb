{
  "nbformat": 4,
  "nbformat_minor": 0,
  "metadata": {
    "colab": {
      "provenance": [],
      "authorship_tag": "ABX9TyMrmuPtceF5z4pAOLY6N4Qi",
      "include_colab_link": true
    },
    "kernelspec": {
      "name": "python3",
      "display_name": "Python 3"
    },
    "language_info": {
      "name": "python"
    }
  },
  "cells": [
    {
      "cell_type": "markdown",
      "metadata": {
        "id": "view-in-github",
        "colab_type": "text"
      },
      "source": [
        "<a href=\"https://colab.research.google.com/github/Smarikatripathi/Machine-Learning/blob/main/SVMclassificationwith_kernel.ipynb\" target=\"_parent\"><img src=\"https://colab.research.google.com/assets/colab-badge.svg\" alt=\"Open In Colab\"/></a>"
      ]
    },
    {
      "cell_type": "code",
      "execution_count": null,
      "metadata": {
        "id": "5fQMZmyIfAse"
      },
      "outputs": [],
      "source": [
        "# 📦 Import required libraries\n",
        "import numpy as np\n",
        "import matplotlib.pyplot as plt\n",
        "from sklearn import datasets\n",
        "from sklearn.svm import SVC\n",
        "\n",
        "# 🧪 Load dataset (built-in 2D for visualization)\n",
        "X, Y = datasets.make_blobs(n_samples=100, centers=2, random_state=6)\n",
        "\n",
        "# 🤖 Create an SVM classifier with linear kernel\n",
        "model = SVC(kernel='linear')\n",
        "model.fit(X, Y)\n",
        "\n",
        "# 🎯 Plot the data and decision boundary\n",
        "plt.figure(figsize=(8, 5))\n",
        "plt.scatter(X[:, 0], X[:, 1], c=Y, cmap='coolwarm', s=50, label=\"Data Points\")\n",
        "\n",
        "# 🔍 Plot decision boundary\n",
        "ax = plt.gca()\n",
        "xlim = ax.get_xlim()\n",
        "ylim = ax.get_ylim()\n",
        "\n",
        "# Create grid to evaluate model\n",
        "xx = np.linspace(xlim[0], xlim[1], 30)\n",
        "yy = np.linspace(ylim[0], ylim[1], 30)\n",
        "YY, XX = np.meshgrid(yy, xx)\n",
        "xy = np.vstack([XX.ravel(), YY.ravel()]).T\n",
        "Z = model.decision_function(xy).reshape(XX.shape)\n",
        "\n",
        "# Draw decision boundary and margins\n",
        "plt.contour(XX, YY, Z, colors='black', levels=[0], alpha=0.7, linewidths=2)\n",
        "plt.contour(XX, YY, Z, colors='gray', levels=[-1, 1], alpha=0.5, linestyles='dashed')\n",
        "\n",
        "# Highlight support vectors\n",
        "plt.scatter(model.support_vectors_[:, 0], model.support_vectors_[:, 1], s=100,\n",
        "            linewidth=1, facecolors='none', edgecolors='black', label=\"Support Vectors\")\n",
        "\n",
        "plt.title(\"SVM Classification with Linear Kernel\")\n",
        "plt.xlabel(\"Feature 1\")\n",
        "plt.ylabel(\"Feature 2\")\n",
        "plt.legend()\n",
        "plt.grid(True)\n",
        "plt.show()\n"
      ]
    }
  ]
}