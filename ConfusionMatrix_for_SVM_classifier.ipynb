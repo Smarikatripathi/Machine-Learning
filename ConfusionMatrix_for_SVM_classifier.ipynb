{
  "nbformat": 4,
  "nbformat_minor": 0,
  "metadata": {
    "colab": {
      "provenance": [],
      "authorship_tag": "ABX9TyPQBVMut9GHSBoCqtxNAA2k",
      "include_colab_link": true
    },
    "kernelspec": {
      "name": "python3",
      "display_name": "Python 3"
    },
    "language_info": {
      "name": "python"
    }
  },
  "cells": [
    {
      "cell_type": "markdown",
      "metadata": {
        "id": "view-in-github",
        "colab_type": "text"
      },
      "source": [
        "<a href=\"https://colab.research.google.com/github/Smarikatripathi/Machine-Learning/blob/main/ConfusionMatrix_for_SVM_classifier.ipynb\" target=\"_parent\"><img src=\"https://colab.research.google.com/assets/colab-badge.svg\" alt=\"Open In Colab\"/></a>"
      ]
    },
    {
      "cell_type": "code",
      "execution_count": 1,
      "metadata": {
        "colab": {
          "base_uri": "https://localhost:8080/",
          "height": 817
        },
        "id": "KKNmIpt8YXTA",
        "outputId": "7544d98a-cc90-415a-e139-66cb09ddfcf9"
      },
      "outputs": [
        {
          "output_type": "stream",
          "name": "stdout",
          "text": [
            "📊 Confusion Matrix:\n",
            "[[10  1]\n",
            " [ 4 15]]\n",
            "\n",
            "✅ Classification Report:\n",
            "              precision    recall  f1-score   support\n",
            "\n",
            "           0       0.71      0.91      0.80        11\n",
            "           1       0.94      0.79      0.86        19\n",
            "\n",
            "    accuracy                           0.83        30\n",
            "   macro avg       0.83      0.85      0.83        30\n",
            "weighted avg       0.86      0.83      0.84        30\n",
            "\n"
          ]
        },
        {
          "output_type": "display_data",
          "data": {
            "text/plain": [
              "<Figure size 640x480 with 2 Axes>"
            ],
            "image/png": "[encoded data removed]"
          },
          "metadata": {}
        },
        {
          "output_type": "stream",
          "name": "stdout",
          "text": [
            "\n",
            "🔍 Accuracy: 0.83\n",
            "🔍 Precision: 0.94\n",
            "🔍 Recall: 0.79\n",
            "🔍 F1 Score: 0.86\n"
          ]
        }
      ],
      "source": [
        "# 📦 Import required libraries\n",
        "import numpy as np\n",
        "import matplotlib.pyplot as plt\n",
        "from sklearn import datasets\n",
        "from sklearn.svm import SVC\n",
        "from sklearn.model_selection import train_test_split\n",
        "from sklearn.metrics import (\n",
        "    confusion_matrix, accuracy_score,\n",
        "    precision_score, recall_score, f1_score,\n",
        "    ConfusionMatrixDisplay, classification_report\n",
        ")\n",
        "\n",
        "# 🧪 Load synthetic binary classification dataset (more realistic)\n",
        "X, Y = datasets.make_classification(\n",
        "    n_samples=100,     # Total samples\n",
        "    n_features=2,      # Number of features (for 2D visualization)\n",
        "    n_informative=2,   # Number of informative features\n",
        "    n_redundant=0,     # No redundant features\n",
        "    n_clusters_per_class=1,\n",
        "    flip_y=0.1,        # Add a bit of label noise\n",
        "    class_sep=1.5,     # Controls how separable the classes are\n",
        "    random_state=42\n",
        ")\n",
        "\n",
        "# 🔀 Split into train and test sets\n",
        "X_train, X_test, Y_train, Y_test = train_test_split(X, Y, test_size=0.3, random_state=42)\n",
        "\n",
        "# 🤖 Train SVM with linear kernel\n",
        "model = SVC(kernel='linear')\n",
        "model.fit(X_train, Y_train)\n",
        "\n",
        "# 🎯 Make predictions\n",
        "Y_pred = model.predict(X_test)\n",
        "\n",
        "# 🧾 Evaluation Metrics\n",
        "print(\"📊 Confusion Matrix:\")\n",
        "cm = confusion_matrix(Y_test, Y_pred)\n",
        "print(cm)\n",
        "\n",
        "print(\"\\n✅ Classification Report:\")\n",
        "print(classification_report(Y_test, Y_pred))\n",
        "\n",
        "# 📈 Optional: Visualize Confusion Matrix\n",
        "disp = ConfusionMatrixDisplay(confusion_matrix=cm)\n",
        "disp.plot(cmap='Blues')\n",
        "plt.title(\"Confusion Matrix for SVM Classifier\")\n",
        "plt.grid(False)\n",
        "plt.show()\n",
        "\n",
        "# ℹ️ Individual Metrics\n",
        "accuracy = accuracy_score(Y_test, Y_pred)\n",
        "precision = precision_score(Y_test, Y_pred)\n",
        "recall = recall_score(Y_test, Y_pred)\n",
        "f1 = f1_score(Y_test, Y_pred)\n",
        "\n",
        "print(f\"\\n🔍 Accuracy: {accuracy:.2f}\")\n",
        "print(f\"🔍 Precision: {precision:.2f}\")\n",
        "print(f\"🔍 Recall: {recall:.2f}\")\n",
        "print(f\"🔍 F1 Score: {f1:.2f}\")\n"
      ]
    }
  ]
}